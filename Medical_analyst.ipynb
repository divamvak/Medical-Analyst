{
 "cells": [
  {
   "cell_type": "markdown",
   "id": "7c66a317",
   "metadata": {},
   "source": [
    "### Medical Analyst With Human Loop\n",
    "\n",
    "There are typically three different actions that you can do with a human-in-the-loop workflow:\n",
    "\n",
    "Approve or Reject: Pause the graph before a critical step, such as an API call, to review and approve the action. If the action is rejected, you can prevent the graph from executing the step, and potentially take an alternative action. This pattern often involve routing the graph based on the human's input.\n",
    "\n",
    "Edit Graph State: Pause the graph to review and edit the graph state. This is useful for correcting mistakes or updating the state with additional information. This pattern often involves updating the state with the human's input.\n",
    "\n",
    "Get Input: Explicitly request human input at a particular step in the graph. This is useful for collecting additional information or context to inform the agent's decision-making process or for supporting multi-turn conversations.\n",
    "\n"
   ]
  },
  {
   "cell_type": "code",
   "execution_count": 8,
   "id": "c99d7d12",
   "metadata": {},
   "outputs": [
    {
     "data": {
      "text/plain": [
       "AIMessage(content='<think>\\nOkay, the user sent \"Hello\". That\\'s a friendly greeting. I should respond in a welcoming and open manner. Maybe ask how I can assist them. Keep it simple and positive. Let them know I\\'m here to help with any questions or tasks they have. Make sure the response is concise but warm.\\n</think>\\n\\nHello! How can I assist you today? 😊', additional_kwargs={}, response_metadata={'token_usage': {'completion_tokens': 79, 'prompt_tokens': 9, 'total_tokens': 88, 'completion_time': 0.162782159, 'prompt_time': 0.000413304, 'queue_time': 0.091552455, 'total_time': 0.163195463}, 'model_name': 'qwen/qwen3-32b', 'system_fingerprint': 'fp_5cf921caa2', 'service_tier': 'on_demand', 'finish_reason': 'stop', 'logprobs': None}, id='run--e33d307f-0fae-4d7e-9fa6-31f577beb855-0', usage_metadata={'input_tokens': 9, 'output_tokens': 79, 'total_tokens': 88})"
      ]
     },
     "execution_count": 8,
     "metadata": {},
     "output_type": "execute_result"
    }
   ],
   "source": [
    "from dotenv import load_dotenv\n",
    "load_dotenv()\n",
    "import os\n",
    "\n",
    "from langchain_openai import ChatOpenAI\n",
    "from langchain_groq import ChatGroq\n",
    "\n",
    "\n",
    "#os.environ[\"OPENAI_API_KEY\"]=os.getenv(\"OPENAI_API_KEY\")\n",
    "os.environ[\"GROQ_API_KEY\"]=os.getenv(\"GROQ_API_KEY\")\n",
    "\n",
    "\n",
    "llm=ChatGroq(model=\"qwen/qwen3-32b\")\n",
    "#llm = ChatOpenAI(model=\"gpt-4o\")\n",
    "result=llm.invoke(\"Hello\")\n",
    "result"
   ]
  },
  {
   "cell_type": "code",
   "execution_count": 9,
   "id": "6ebc7471",
   "metadata": {},
   "outputs": [],
   "source": [
    "from typing import List\n",
    "from typing_extensions import TypedDict\n",
    "from pydantic import BaseModel,Field\n",
    "\n",
    "class MedicalAnalyst(BaseModel):\n",
    "    affiliation:str=Field(\n",
    "        description=\"Primary qualification of the medical anaylyst\"\n",
    "    )\n",
    "    name:str=Field(\n",
    "        description=\"Name of the Medical Analyst \"\n",
    "    )\n",
    "    role:str=Field(\n",
    "        description=\"Role of the medical analyst in the context of the research topic\",\n",
    "    )\n",
    "    description:str=Field(\n",
    "        description=\"Description of the medical analyst research focus,concerns and research objectives to achieve\"\n",
    "    )\n",
    "    @property\n",
    "    def persona(self)->str:\n",
    "        return f\" Name:{self.name} \\n Role:{self.role} \\n affiliation:{self.affiliation}\\n Description:{self.description}\\n\"\n",
    "\n",
    "\n",
    "class Perspectives(BaseModel):\n",
    "    medicalanalysts:List[MedicalAnalyst]=Field(\n",
    "        description=\"Comprehensive list of medical analyst with there roles and affiliations \"\n",
    "    )\n",
    "\n",
    "class GenerateMedicalAnalystState(TypedDict):\n",
    "    researchTopic:str # Research topic\n",
    "    max_medical_analysts:int # number of analysts\n",
    "    human_analyst_feedback:str # human feedback\n",
    "    medicalanalysts:List[MedicalAnalyst] #Medical analyst asking questions\n"
   ]
  },
  {
   "cell_type": "code",
   "execution_count": 10,
   "id": "48b5bb50",
   "metadata": {},
   "outputs": [],
   "source": [
    "from IPython.display import Image, display\n",
    "from langgraph.graph import START, END, StateGraph\n",
    "from langgraph.checkpoint.memory import MemorySaver\n",
    "from langchain_core.messages import AIMessage, HumanMessage, SystemMessage\n",
    "\n",
    "medical_analyst_instructions=\"\"\"You are tasked with creating a set of Medical AI analyst personas. Follow these instructions carefully:\n",
    "\n",
    "1. First, review the medical research topic:\n",
    "{researchTopic}\n",
    "        \n",
    "2. Examine any medical editorial feedback or medical research   that has been optionally provided to guide creation of the medical analysts that will work to generate medicines for the research or you can your own knowledge for this task: \n",
    "        \n",
    "{human_analyst_feedback}\n",
    "    \n",
    "3. Determine the most interesting research parts based upon documents and / or feedback above.\n",
    "                    \n",
    "4. Pick the top {max_medical_analysts} research.\n",
    "\n",
    "5. Assign one analyst to each research part.\"\"\""
   ]
  },
  {
   "cell_type": "code",
   "execution_count": 11,
   "id": "2f6a0665",
   "metadata": {},
   "outputs": [],
   "source": [
    "def  create_medical_analysts(state:GenerateMedicalAnalystState):\n",
    "    \"\"\"Create medical analysts\"\"\"\n",
    "\n",
    "    researchTopic=state[\"researchTopic\"]\n",
    "    max_medical_analysts=state[\"max_medical_analysts\"]\n",
    "    human_analyst_feedback=state.get('human_analyst_feedback')\n",
    "\n",
    "    #Enforece structured output\n",
    "    structured_llm=llm.with_structured_output(Perspectives)\n",
    "\n",
    "    #System message\n",
    "    system_message=medical_analyst_instructions.format(researchTopic=researchTopic,\n",
    "                                                       human_analyst_feedback=human_analyst_feedback,\n",
    "                                                       max_medical_analysts=max_medical_analysts)\n",
    "    \n",
    "    #Generate questions\n",
    "\n",
    "    analysts=structured_llm.invoke([SystemMessage(content=system_message)]+[HumanMessage(content=\"Generate the set of medical analyst\")])\n",
    "\n",
    "    #Write the list of analysis to state\n",
    "    return {\"medicalanalysts\":analysts.medicalanalysts}\n"
   ]
  },
  {
   "cell_type": "code",
   "execution_count": 12,
   "id": "031aa95a",
   "metadata": {},
   "outputs": [],
   "source": [
    "def human_feedback(state:GenerateMedicalAnalystState):\n",
    "    \"\"\"No operation node that should be interrupted\"\"\"\n",
    "    pass"
   ]
  },
  {
   "cell_type": "code",
   "execution_count": null,
   "id": "d182d67a",
   "metadata": {},
   "outputs": [],
   "source": []
  },
  {
   "cell_type": "code",
   "execution_count": 13,
   "id": "572e7358",
   "metadata": {},
   "outputs": [],
   "source": [
    "def should_continue(state:GenerateMedicalAnalystState):\n",
    "    \"\"\"Return the next node to execute\"\"\"\n",
    "\n",
    "    #check if human feedback\n",
    "\n",
    "    human_analyst_feedback=state.get(\"human_analyst_feedback\",None)\n",
    "    if( human_analyst_feedback):\n",
    "        return \"create_medical_analysts\"\n",
    "    return END\n"
   ]
  },
  {
   "cell_type": "code",
   "execution_count": 14,
   "id": "b12fd5f1",
   "metadata": {},
   "outputs": [
    {
     "data": {
      "image/png": "[encoded data removed]",
      "text/plain": [
       "<IPython.core.display.Image object>"
      ]
     },
     "metadata": {},
     "output_type": "display_data"
    }
   ],
   "source": [
    "#Add nodes and edges \n",
    "\n",
    "medical_analyst_builder=StateGraph(GenerateMedicalAnalystState)\n",
    "\n",
    "medical_analyst_builder.add_node(\"create_medical_analysts\",create_medical_analysts)\n",
    "medical_analyst_builder.add_node(\"human_feedback\",human_feedback)\n",
    "medical_analyst_builder.add_edge(START,\"create_medical_analysts\")\n",
    "medical_analyst_builder.add_edge(\"create_medical_analysts\",\"human_feedback\")\n",
    "medical_analyst_builder.add_conditional_edges(\"human_feedback\",should_continue,[\"create_medical_analysts\",END])\n",
    "#compile\n",
    "\n",
    "memory=MemorySaver()\n",
    "graph=medical_analyst_builder.compile(interrupt_before=[\"human_feedback\"],checkpointer=memory)\n",
    "\n",
    "#View\n",
    "#display(Image(graph.get_graph().draw_mermaid_png()))\n",
    "\n",
    "from langchain_core.runnables.graph import MermaidDrawMethod\n",
    "\n",
    "import nest_asyncio\n",
    "nest_asyncio.apply()\n",
    "\n",
    "png = graph.get_graph().draw_mermaid_png(draw_method=MermaidDrawMethod.PYPPETEER)\n",
    "display(Image(png))\n",
    "\n",
    "\n"
   ]
  },
  {
   "cell_type": "code",
   "execution_count": null,
   "id": "64bf3af3",
   "metadata": {},
   "outputs": [],
   "source": [
    "# Input\n",
    "max_medical_analysts=4\n",
    "topic=\"Vaccines for  chicken pox diseases\"\n",
    "thread={\"configurable\":{\"thread_id\":\"1\"}}\n"
   ]
  },
  {
   "cell_type": "code",
   "execution_count": 16,
   "id": "08fda37f",
   "metadata": {},
   "outputs": [
    {
     "name": "stdout",
     "output_type": "stream",
     "text": [
      "Name :Dr. Emily Carter\n",
      "Affiliation:National Institute of Allergy and Infectious Diseases (NIAID)\n",
      "Role:Vaccine Efficacy Researcher\n",
      "Description:Focuses on analyzing clinical trial data to determine the long-term efficacy of chickenpox vaccines in different demographic groups, with a goal of optimizing dosing strategies.\n",
      "--------------------------------------------------\n",
      "Name :Dr. Raj Patel\n",
      "Affiliation:Centers for Disease Control and Prevention (CDC)\n",
      "Role:Adverse Event Monitor\n",
      "Description:Specializes in tracking post-vaccination adverse events and rare complications to ensure safety profiles align with WHO standards.\n",
      "--------------------------------------------------\n",
      "Name :Dr. Ana Morales\n",
      "Affiliation:Johns Hopkins School of Medicine\n",
      "Role:Vaccine Immunologist\n",
      "Description:Investigates immune response mechanisms to chickenpox vaccines, aiming to improve protection duration and reduce breakthrough infections.\n",
      "--------------------------------------------------\n",
      "Name :Dr. Michael Chen\n",
      "Affiliation:Global Health Policy Institute\n",
      "Role:Health Equity Analyst\n",
      "Description:Analyzes vaccination coverage disparities and designs strategies to increase access to chickenpox vaccines in underserved populations.\n",
      "--------------------------------------------------\n"
     ]
    }
   ],
   "source": [
    "# Run the graph until the first interruption\n",
    "for event in graph.stream({\"researchTopic\":topic,\"max_medical_analysts\":max_medical_analysts},thread,stream_mode=\"values\"):\n",
    "     analysts=event.get(\"medicalanalysts\",'')\n",
    "     if analysts:\n",
    "          for analyst in analysts:\n",
    "               print(f\"Name :{analyst.name}\")\n",
    "               print(f\"Affiliation:{analyst.affiliation}\" )\n",
    "               print(f\"Role:{analyst.role}\")\n",
    "               print(f\"Description:{analyst.description}\")\n",
    "               print(\"-\"*50)"
   ]
  },
  {
   "cell_type": "code",
   "execution_count": 17,
   "id": "7fc9479e",
   "metadata": {},
   "outputs": [],
   "source": [
    "state=graph.get_state(thread)\n"
   ]
  },
  {
   "cell_type": "code",
   "execution_count": 18,
   "id": "b0f015f2",
   "metadata": {},
   "outputs": [
    {
     "data": {
      "text/plain": [
       "('human_feedback',)"
      ]
     },
     "execution_count": 18,
     "metadata": {},
     "output_type": "execute_result"
    }
   ],
   "source": [
    "state.next"
   ]
  },
  {
   "cell_type": "code",
   "execution_count": 19,
   "id": "ee958879",
   "metadata": {},
   "outputs": [
    {
     "data": {
      "text/plain": [
       "{'configurable': {'thread_id': '1',\n",
       "  'checkpoint_ns': '',\n",
       "  'checkpoint_id': '1f09d45d-5e0b-615b-8002-c38d33b9f8db'}}"
      ]
     },
     "execution_count": 19,
     "metadata": {},
     "output_type": "execute_result"
    }
   ],
   "source": [
    "# We now update the state as if we are the human_feedback node\n",
    "graph.update_state(thread, {\"human_analyst_feedback\": \n",
    "                            \"Add in someone from a research for children chicken pox\"}, as_node=\"human_feedback\")"
   ]
  },
  {
   "cell_type": "code",
   "execution_count": 20,
   "id": "a5c84a60",
   "metadata": {},
   "outputs": [
    {
     "name": "stdout",
     "output_type": "stream",
     "text": [
      "Name: Dr. Emily Carter\n",
      "Affiliation: National Institute of Allergy and Infectious Diseases (NIAID)\n",
      "Role: Vaccine Efficacy Researcher\n",
      "Description: Focuses on analyzing clinical trial data to determine the long-term efficacy of chickenpox vaccines in different demographic groups, with a goal of optimizing dosing strategies.\n",
      "--------------------------------------------------\n",
      "Name: Dr. Raj Patel\n",
      "Affiliation: Centers for Disease Control and Prevention (CDC)\n",
      "Role: Adverse Event Monitor\n",
      "Description: Specializes in tracking post-vaccination adverse events and rare complications to ensure safety profiles align with WHO standards.\n",
      "--------------------------------------------------\n",
      "Name: Dr. Ana Morales\n",
      "Affiliation: Johns Hopkins School of Medicine\n",
      "Role: Vaccine Immunologist\n",
      "Description: Investigates immune response mechanisms to chickenpox vaccines, aiming to improve protection duration and reduce breakthrough infections.\n",
      "--------------------------------------------------\n",
      "Name: Dr. Michael Chen\n",
      "Affiliation: Global Health Policy Institute\n",
      "Role: Health Equity Analyst\n",
      "Description: Analyzes vaccination coverage disparities and designs strategies to increase access to chickenpox vaccines in underserved populations.\n",
      "--------------------------------------------------\n",
      "Name: Dr. Emily Carter\n",
      "Affiliation: Pediatric Infectious Disease Research Institute\n",
      "Role: Pediatric Vaccine Immunologist\n",
      "Description: Focuses on optimizing vaccine efficacy in children under 10 years old, studying long-term immunity, and addressing vaccine hesitancy in pediatric populations.\n",
      "--------------------------------------------------\n",
      "Name: Dr. Raj Patel\n",
      "Affiliation: Global Vaccine Safety Network\n",
      "Role: Pharmacovigilance Specialist\n",
      "Description: Monitors adverse effects of chickenpox vaccines, particularly in immunocompromised children, and develops safety guidelines for pediatric use.\n",
      "--------------------------------------------------\n",
      "Name: Dr. Sarah Kim\n",
      "Affiliation: Molecular Virology Lab\n",
      "Role: Vaccine Development Scientist\n",
      "Description: Investigates next-generation chickenpox vaccine candidates using mRNA technology to improve protection against varicella-zoster virus reactivation.\n",
      "--------------------------------------------------\n",
      "Name: Dr. Michael Torres\n",
      "Affiliation: Public Health Epidemiology Division\n",
      "Role: Health Policy Analyst\n",
      "Description: Analyzes herd immunity patterns and vaccine coverage gaps in low-income regions to inform global chickenpox prevention strategies.\n",
      "--------------------------------------------------\n"
     ]
    }
   ],
   "source": [
    "# Continue the graph execution\n",
    "for event in graph.stream(None, thread, stream_mode=\"values\"):\n",
    "    # Review\n",
    "    analysts = event.get('medicalanalysts', '')\n",
    "    if analysts:\n",
    "        for analyst in analysts:\n",
    "            print(f\"Name: {analyst.name}\")\n",
    "            print(f\"Affiliation: {analyst.affiliation}\")\n",
    "            print(f\"Role: {analyst.role}\")\n",
    "            print(f\"Description: {analyst.description}\")\n",
    "            print(\"-\" * 50) "
   ]
  },
  {
   "cell_type": "code",
   "execution_count": 21,
   "id": "680a9a1e",
   "metadata": {},
   "outputs": [
    {
     "data": {
      "text/plain": [
       "{'configurable': {'thread_id': '1',\n",
       "  'checkpoint_ns': '',\n",
       "  'checkpoint_id': '1f09d45d-7151-6ffa-8004-7f3d8afbf00b'}}"
      ]
     },
     "execution_count": 21,
     "metadata": {},
     "output_type": "execute_result"
    }
   ],
   "source": [
    "further_feedack = None\n",
    "graph.update_state(thread, {\"human_analyst_feedback\": \n",
    "                            further_feedack}, as_node=\"human_feedback\")"
   ]
  },
  {
   "cell_type": "code",
   "execution_count": 22,
   "id": "8e03dba2",
   "metadata": {},
   "outputs": [],
   "source": [
    "# Continue the graph execution to end\n",
    "for event in graph.stream(None, thread, stream_mode=\"updates\"):\n",
    "    print(\"--Node--\")\n",
    "    node_name = next(iter(event.keys()))\n",
    "    print(node_name)"
   ]
  },
  {
   "cell_type": "code",
   "execution_count": 23,
   "id": "77c48152",
   "metadata": {},
   "outputs": [],
   "source": [
    "final_state = graph.get_state(thread)\n",
    "analysts = final_state.values.get('medicalanalysts')"
   ]
  },
  {
   "cell_type": "code",
   "execution_count": 24,
   "id": "775aa30d",
   "metadata": {},
   "outputs": [
    {
     "data": {
      "text/plain": [
       "[MedicalAnalyst(affiliation='Pediatric Infectious Disease Research Institute', name='Dr. Emily Carter', role='Pediatric Vaccine Immunologist', description='Focuses on optimizing vaccine efficacy in children under 10 years old, studying long-term immunity, and addressing vaccine hesitancy in pediatric populations.'),\n",
       " MedicalAnalyst(affiliation='Global Vaccine Safety Network', name='Dr. Raj Patel', role='Pharmacovigilance Specialist', description='Monitors adverse effects of chickenpox vaccines, particularly in immunocompromised children, and develops safety guidelines for pediatric use.'),\n",
       " MedicalAnalyst(affiliation='Molecular Virology Lab', name='Dr. Sarah Kim', role='Vaccine Development Scientist', description='Investigates next-generation chickenpox vaccine candidates using mRNA technology to improve protection against varicella-zoster virus reactivation.'),\n",
       " MedicalAnalyst(affiliation='Public Health Epidemiology Division', name='Dr. Michael Torres', role='Health Policy Analyst', description='Analyzes herd immunity patterns and vaccine coverage gaps in low-income regions to inform global chickenpox prevention strategies.')]"
      ]
     },
     "execution_count": 24,
     "metadata": {},
     "output_type": "execute_result"
    }
   ],
   "source": [
    "analysts"
   ]
  },
  {
   "cell_type": "code",
   "execution_count": 25,
   "id": "436d3758",
   "metadata": {},
   "outputs": [
    {
     "data": {
      "text/plain": [
       "()"
      ]
     },
     "execution_count": 25,
     "metadata": {},
     "output_type": "execute_result"
    }
   ],
   "source": [
    "final_state.next"
   ]
  },
  {
   "cell_type": "code",
   "execution_count": 26,
   "id": "227b708e",
   "metadata": {},
   "outputs": [
    {
     "data": {
      "text/plain": [
       "[MedicalAnalyst(affiliation='Pediatric Infectious Disease Research Institute', name='Dr. Emily Carter', role='Pediatric Vaccine Immunologist', description='Focuses on optimizing vaccine efficacy in children under 10 years old, studying long-term immunity, and addressing vaccine hesitancy in pediatric populations.'),\n",
       " MedicalAnalyst(affiliation='Global Vaccine Safety Network', name='Dr. Raj Patel', role='Pharmacovigilance Specialist', description='Monitors adverse effects of chickenpox vaccines, particularly in immunocompromised children, and develops safety guidelines for pediatric use.'),\n",
       " MedicalAnalyst(affiliation='Molecular Virology Lab', name='Dr. Sarah Kim', role='Vaccine Development Scientist', description='Investigates next-generation chickenpox vaccine candidates using mRNA technology to improve protection against varicella-zoster virus reactivation.'),\n",
       " MedicalAnalyst(affiliation='Public Health Epidemiology Division', name='Dr. Michael Torres', role='Health Policy Analyst', description='Analyzes herd immunity patterns and vaccine coverage gaps in low-income regions to inform global chickenpox prevention strategies.')]"
      ]
     },
     "execution_count": 26,
     "metadata": {},
     "output_type": "execute_result"
    }
   ],
   "source": [
    "analysts"
   ]
  }
 ],
 "metadata": {
  "kernelspec": {
   "display_name": "venv (3.12.3)",
   "language": "python",
   "name": "python3"
  },
  "language_info": {
   "codemirror_mode": {
    "name": "ipython",
    "version": 3
   },
   "file_extension": ".py",
   "mimetype": "text/x-python",
   "name": "python",
   "nbconvert_exporter": "python",
   "pygments_lexer": "ipython3",
   "version": "3.12.3"
  }
 },
 "nbformat": 4,
 "nbformat_minor": 5
}
